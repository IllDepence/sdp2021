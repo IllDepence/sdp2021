{
 "cells": [
  {
   "cell_type": "markdown",
   "metadata": {},
   "source": [
    "# Write Core Data into TEI files\n"
   ]
  },
  {
   "cell_type": "markdown",
   "metadata": {},
   "source": [
    "## Packages & Functions"
   ]
  },
  {
   "cell_type": "code",
   "execution_count": 1,
   "metadata": {},
   "outputs": [],
   "source": [
    "import xml.etree.ElementTree as ET\n",
    "from xml.etree.ElementTree import Element, SubElement, Comment, tostring\n",
    "from xml.dom import minidom\n",
    "import pandas as pd\n",
    "import os\n",
    "\n",
    "import re"
   ]
  },
  {
   "cell_type": "code",
   "execution_count": 2,
   "metadata": {},
   "outputs": [],
   "source": [
    "### Function that remove \"arrays\" from the author fields\n",
    "\n",
    "def removeAutor(my_str):\n",
    "    my_str1 = re.sub(\"\\['\", \"\", my_str)\n",
    "    my_str2 = re.sub(\"'\\]\", \"\", my_str1)\n",
    "    my_str3 = re.sub(\"'\", \"\", my_str2)\n",
    "    return(my_str3)"
   ]
  },
  {
   "cell_type": "code",
   "execution_count": 3,
   "metadata": {},
   "outputs": [],
   "source": [
    "def listdir_path(d):\n",
    "    # Return full path of all files & directories in directory\n",
    "    list_full_path = []\n",
    "    for path in os.listdir(d):\n",
    "        full_path = os.path.join(d, path)\n",
    "        list_full_path.append(full_path)\n",
    "    return list_full_path"
   ]
  },
  {
   "cell_type": "code",
   "execution_count": 4,
   "metadata": {},
   "outputs": [],
   "source": [
    "def prettify(elem):\n",
    "    \"\"\"Return a pretty-printed XML string for the Element.\n",
    "    \"\"\"\n",
    "    rough_string = tostring(elem, 'utf-8')\n",
    "    reparsed = minidom.parseString(rough_string)\n",
    "    return reparsed.toprettyxml(indent=\" \")"
   ]
  },
  {
   "cell_type": "code",
   "execution_count": 5,
   "metadata": {},
   "outputs": [
    {
     "data": {
      "text/html": [
       "<img src=\"template_tei.png\"/>"
      ],
      "text/plain": [
       "<IPython.core.display.Image object>"
      ]
     },
     "execution_count": 5,
     "metadata": {},
     "output_type": "execute_result"
    }
   ],
   "source": [
    "# That´s how the TEIs supposed to look like (following the GROBID \"processHeader\" batch command output)\n",
    "from IPython.display import Image\n",
    "img = 'template_tei.png'\n",
    "Image(url=img)"
   ]
  },
  {
   "cell_type": "markdown",
   "metadata": {},
   "source": [
    "## Extract Core Data"
   ]
  },
  {
   "cell_type": "code",
   "execution_count": 6,
   "metadata": {},
   "outputs": [
    {
     "data": {
      "text/html": [
       "<div>\n",
       "<style scoped>\n",
       "    .dataframe tbody tr th:only-of-type {\n",
       "        vertical-align: middle;\n",
       "    }\n",
       "\n",
       "    .dataframe tbody tr th {\n",
       "        vertical-align: top;\n",
       "    }\n",
       "\n",
       "    .dataframe thead th {\n",
       "        text-align: right;\n",
       "    }\n",
       "</style>\n",
       "<table border=\"1\" class=\"dataframe\">\n",
       "  <thead>\n",
       "    <tr style=\"text-align: right;\">\n",
       "      <th></th>\n",
       "      <th>coreId</th>\n",
       "      <th>title</th>\n",
       "      <th>authors</th>\n",
       "    </tr>\n",
       "  </thead>\n",
       "  <tbody>\n",
       "    <tr>\n",
       "      <th>0</th>\n",
       "      <td>11083759</td>\n",
       "      <td>Середовище проведення освітніх вебінарів «WIP ...</td>\n",
       "      <td>['Богачков, Ю.М.']</td>\n",
       "    </tr>\n",
       "    <tr>\n",
       "      <th>1</th>\n",
       "      <td>11083794</td>\n",
       "      <td>Комплексна підготовка дистанційних матеріалів</td>\n",
       "      <td>['Богачков, Ю.М.', 'Царенко, В.О.']</td>\n",
       "    </tr>\n",
       "    <tr>\n",
       "      <th>2</th>\n",
       "      <td>11083801</td>\n",
       "      <td>Метод аналізу елементарних доменів для покраще...</td>\n",
       "      <td>['Богачков, Ю.М.', 'Ухань, П.С.', 'Полобюк, Т....</td>\n",
       "    </tr>\n",
       "    <tr>\n",
       "      <th>3</th>\n",
       "      <td>11083807</td>\n",
       "      <td>Інструментальні засоби профорієнтації</td>\n",
       "      <td>['Богачков, Ю.М.', 'Буров, О.Ю.', 'Бельська, Н...</td>\n",
       "    </tr>\n",
       "    <tr>\n",
       "      <th>4</th>\n",
       "      <td>11083814</td>\n",
       "      <td>Експеримент «Дистанційне навчання школярів”: п...</td>\n",
       "      <td>['Богачков, Ю.М.']</td>\n",
       "    </tr>\n",
       "    <tr>\n",
       "      <th>...</th>\n",
       "      <td>...</td>\n",
       "      <td>...</td>\n",
       "      <td>...</td>\n",
       "    </tr>\n",
       "    <tr>\n",
       "      <th>15548</th>\n",
       "      <td>95313001</td>\n",
       "      <td>Підігрів тротуарів за допомогою теплових мереж</td>\n",
       "      <td>['Семенюк, К.А.']</td>\n",
       "    </tr>\n",
       "    <tr>\n",
       "      <th>15549</th>\n",
       "      <td>95313006</td>\n",
       "      <td>Шлакозоловидалення як спосіб підвищення енерго...</td>\n",
       "      <td>['Бондар, Г.Ю.']</td>\n",
       "    </tr>\n",
       "    <tr>\n",
       "      <th>15550</th>\n",
       "      <td>95313010</td>\n",
       "      <td>Підвищення ефективності роботи каміну</td>\n",
       "      <td>['Півень, Д.В.']</td>\n",
       "    </tr>\n",
       "    <tr>\n",
       "      <th>15551</th>\n",
       "      <td>95313012</td>\n",
       "      <td>Технологія поквартирного обліку теплової енергії</td>\n",
       "      <td>['Горбачьова, А.О.']</td>\n",
       "    </tr>\n",
       "    <tr>\n",
       "      <th>15552</th>\n",
       "      <td>95313017</td>\n",
       "      <td>Використання нового покоління будинкових регул...</td>\n",
       "      <td>['Назаренко, Д.В.']</td>\n",
       "    </tr>\n",
       "  </tbody>\n",
       "</table>\n",
       "<p>15553 rows × 3 columns</p>\n",
       "</div>"
      ],
      "text/plain": [
       "         coreId                                              title  \\\n",
       "0      11083759  Середовище проведення освітніх вебінарів «WIP ...   \n",
       "1      11083794      Комплексна підготовка дистанційних матеріалів   \n",
       "2      11083801  Метод аналізу елементарних доменів для покраще...   \n",
       "3      11083807              Інструментальні засоби профорієнтації   \n",
       "4      11083814  Експеримент «Дистанційне навчання школярів”: п...   \n",
       "...         ...                                                ...   \n",
       "15548  95313001     Підігрів тротуарів за допомогою теплових мереж   \n",
       "15549  95313006  Шлакозоловидалення як спосіб підвищення енерго...   \n",
       "15550  95313010              Підвищення ефективності роботи каміну   \n",
       "15551  95313012   Технологія поквартирного обліку теплової енергії   \n",
       "15552  95313017  Використання нового покоління будинкових регул...   \n",
       "\n",
       "                                                 authors  \n",
       "0                                     ['Богачков, Ю.М.']  \n",
       "1                    ['Богачков, Ю.М.', 'Царенко, В.О.']  \n",
       "2      ['Богачков, Ю.М.', 'Ухань, П.С.', 'Полобюк, Т....  \n",
       "3      ['Богачков, Ю.М.', 'Буров, О.Ю.', 'Бельська, Н...  \n",
       "4                                     ['Богачков, Ю.М.']  \n",
       "...                                                  ...  \n",
       "15548                                  ['Семенюк, К.А.']  \n",
       "15549                                   ['Бондар, Г.Ю.']  \n",
       "15550                                   ['Півень, Д.В.']  \n",
       "15551                               ['Горбачьова, А.О.']  \n",
       "15552                                ['Назаренко, Д.В.']  \n",
       "\n",
       "[15553 rows x 3 columns]"
      ]
     },
     "execution_count": 6,
     "metadata": {},
     "output_type": "execute_result"
    }
   ],
   "source": [
    "df_meta = pd.read_csv(\"metadata_15553.csv\")\n",
    "df_meta"
   ]
  },
  {
   "cell_type": "markdown",
   "metadata": {},
   "source": [
    "## Write TEI "
   ]
  },
  {
   "cell_type": "code",
   "execution_count": null,
   "metadata": {},
   "outputs": [],
   "source": [
    "os.chdir(\"/TEI_files\") # Path where to store the final TEIs"
   ]
  },
  {
   "cell_type": "code",
   "execution_count": 113,
   "metadata": {},
   "outputs": [],
   "source": [
    "for c in range(len(df_meta.coreId)):\n",
    "    # first read in the template TEI. From there we will fill up the entries.\n",
    "    tree = ET.parse(\"/template.tei\") # Path to the \"template.tei\"\n",
    "    template_root = tree.getroot()\n",
    "    #################################\n",
    "    titleStmt = template_root[0][0][0]\n",
    "    analytic = template_root[0][0][2][0][0]\n",
    "\n",
    "    # get meta data\n",
    "    paper_meta = df_meta.loc[c]\n",
    "\n",
    "    core_id = paper_meta.coreId\n",
    "    title = paper_meta.title\n",
    "    authors = paper_meta.authors\n",
    "\n",
    "    ### Get autor for the PDF´s\n",
    "    autor_pdf  = authors\n",
    "\n",
    "    authors = removeAutor(authors).split(\",\")\n",
    "    for j in range(len(authors)):\n",
    "        authors[j] = ' '.join(authors[j].split()) ## remove excessive whitespace\n",
    "\n",
    "    authors\n",
    "\n",
    "    # construct tei\n",
    "    title1 = SubElement(titleStmt, 'title', {\"level\":\"a\" , \"type\":\"main\"})\n",
    "    title1.text = title\n",
    "\n",
    "    for i in range(len(authors)):\n",
    "        if i%2 == 0:\n",
    "            author = SubElement(analytic , \"author\")\n",
    "            persName = SubElement(author, \"persName\" , {\"xmlns\":\"http://www.tei-c.org/ns/1.0\"})\n",
    "            surname  = SubElement(persName, \"surname\")\n",
    "            surname.text = authors[i]\n",
    "        else:\n",
    "            if re.match('.\\.',authors[i]) != None:\n",
    "                author_forenames = authors[i].split(\".\")\n",
    "            else: \n",
    "                author_forenames = authors[i].split(\" \")\n",
    "            forename  = SubElement(persName, \"forename\" , {\"type\": \"first\"})\n",
    "            forename.text = author_forenames[0]\n",
    "            try: \n",
    "                forename  = SubElement(persName, \"forename\" , {\"type\": \"middle\"})\n",
    "                forename.text = author_forenames[1]\n",
    "            except:\n",
    "                pass\n",
    "\n",
    "    # write tei\n",
    "    file_name = \"Core_ID_\" + str(core_id) +\".tei.xml\"\n",
    "    mydata = str(prettify(template_root)).replace(\"ns0:\",\"\").replace(\":ns0\",\"\")\n",
    "    myfile = open(file_name, \"w\",encoding=\"utf-8\")\n",
    "    myfile.write(mydata)\n",
    "    myfile.close()"
   ]
  }
 ],
 "metadata": {
  "kernelspec": {
   "display_name": "Python 3",
   "language": "python",
   "name": "python3"
  },
  "language_info": {
   "codemirror_mode": {
    "name": "ipython",
    "version": 3
   },
   "file_extension": ".py",
   "mimetype": "text/x-python",
   "name": "python",
   "nbconvert_exporter": "python",
   "pygments_lexer": "ipython3",
   "version": "3.7.7"
  }
 },
 "nbformat": 4,
 "nbformat_minor": 4
}
