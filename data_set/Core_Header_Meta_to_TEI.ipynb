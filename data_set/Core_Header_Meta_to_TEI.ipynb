{
 "cells": [
  {
   "cell_type": "markdown",
   "metadata": {},
   "source": [
    "# Write Core Data into TEI files\n"
   ]
  },
  {
   "cell_type": "markdown",
   "metadata": {},
   "source": [
    "Code for creating TEI files (according to the structure of GROBIDs \"Header\" output TEIs) containing the `Title` and `Authors` metadata for each publication"
   ]
  },
  {
   "cell_type": "markdown",
   "metadata": {},
   "source": [
    "## Packages & Functions"
   ]
  },
  {
   "cell_type": "code",
   "execution_count": null,
   "metadata": {},
   "outputs": [],
   "source": [
    "import xml.etree.ElementTree as ET\n",
    "from xml.etree.ElementTree import Element, SubElement, Comment, tostring\n",
    "from xml.dom import minidom\n",
    "import pandas as pd\n",
    "import os\n",
    "\n",
    "import re"
   ]
  },
  {
   "cell_type": "code",
   "execution_count": null,
   "metadata": {},
   "outputs": [],
   "source": [
    "### Function that remove \"arrays\" from the author fields\n",
    "\n",
    "def removeAutor(my_str):\n",
    "    my_str1 = re.sub(\"\\['\", \"\", my_str)\n",
    "    my_str2 = re.sub(\"'\\]\", \"\", my_str1)\n",
    "    my_str3 = re.sub(\"'\", \"\", my_str2)\n",
    "    return(my_str3)"
   ]
  },
  {
   "cell_type": "code",
   "execution_count": null,
   "metadata": {},
   "outputs": [],
   "source": [
    "def listdir_path(d):\n",
    "    # Return full path of all files & directories in directory\n",
    "    list_full_path = []\n",
    "    for path in os.listdir(d):\n",
    "        full_path = os.path.join(d, path)\n",
    "        list_full_path.append(full_path)\n",
    "    return list_full_path"
   ]
  },
  {
   "cell_type": "code",
   "execution_count": null,
   "metadata": {},
   "outputs": [],
   "source": [
    "def prettify(elem):\n",
    "    \"\"\"Return a pretty-printed XML string for the Element.\n",
    "    \"\"\"\n",
    "    rough_string = tostring(elem, 'utf-8')\n",
    "    reparsed = minidom.parseString(rough_string)\n",
    "    return reparsed.toprettyxml(indent=\" \")"
   ]
  },
  {
   "cell_type": "code",
   "execution_count": null,
   "metadata": {},
   "outputs": [],
   "source": [
    "# That´s how the TEIs supposed to look like (following the GROBID \"processHeader\" batch command output)\n",
    "from IPython.display import Image\n",
    "img = 'template_tei.png'\n",
    "Image(url=img)"
   ]
  },
  {
   "cell_type": "markdown",
   "metadata": {},
   "source": [
    "## Extract Core Data"
   ]
  },
  {
   "cell_type": "code",
   "execution_count": null,
   "metadata": {
    "scrolled": true
   },
   "outputs": [],
   "source": [
    "df_meta = pd.read_csv(\"metadata_15553.csv\")\n",
    "df_meta"
   ]
  },
  {
   "cell_type": "markdown",
   "metadata": {},
   "source": [
    "## Write TEI "
   ]
  },
  {
   "cell_type": "code",
   "execution_count": null,
   "metadata": {},
   "outputs": [],
   "source": [
    "os.chdir(\"TEI_files\") # Path where to store the final TEIs"
   ]
  },
  {
   "cell_type": "code",
   "execution_count": null,
   "metadata": {},
   "outputs": [],
   "source": [
    "for c in range(len(df_meta.coreId)):\n",
    "    # first read in the template TEI. From there we will fill up the entries.\n",
    "    tree = ET.parse(\"template.tei\") # Path to the \"template.tei\"\n",
    "    template_root = tree.getroot()\n",
    "    #################################\n",
    "    titleStmt = template_root[0][0][0]\n",
    "    analytic = template_root[0][0][2][0][0]\n",
    "\n",
    "    # get meta data\n",
    "    paper_meta = df_meta.loc[c]\n",
    "\n",
    "    core_id = paper_meta.coreId\n",
    "    title = paper_meta.title\n",
    "    authors = paper_meta.authors\n",
    "\n",
    "    ### Get autor for the PDF´s\n",
    "    autor_pdf  = authors\n",
    "\n",
    "    authors = removeAutor(authors).split(\",\")\n",
    "    for j in range(len(authors)):\n",
    "        authors[j] = ' '.join(authors[j].split()) ## remove excessive whitespace\n",
    "\n",
    "    authors\n",
    "\n",
    "    # construct tei\n",
    "    title1 = SubElement(titleStmt, 'title', {\"level\":\"a\" , \"type\":\"main\"})\n",
    "    title1.text = title\n",
    "\n",
    "    for i in range(len(authors)):\n",
    "        if i%2 == 0:\n",
    "            author = SubElement(analytic , \"author\")\n",
    "            persName = SubElement(author, \"persName\" , {\"xmlns\":\"http://www.tei-c.org/ns/1.0\"})\n",
    "            surname  = SubElement(persName, \"surname\")\n",
    "            surname.text = authors[i]\n",
    "        else:\n",
    "            if re.match('.\\.',authors[i]) != None:\n",
    "                author_forenames = authors[i].split(\".\")\n",
    "            else: \n",
    "                author_forenames = authors[i].split(\" \")\n",
    "            forename  = SubElement(persName, \"forename\" , {\"type\": \"first\"})\n",
    "            forename.text = author_forenames[0]\n",
    "            try: \n",
    "                forename  = SubElement(persName, \"forename\" , {\"type\": \"middle\"})\n",
    "                forename.text = author_forenames[1]\n",
    "            except:\n",
    "                pass\n",
    "\n",
    "    # write tei\n",
    "    file_name = \"Core_ID_\" + str(core_id) +\".tei.xml\"\n",
    "    mydata = str(prettify(template_root)).replace(\"ns0:\",\"\").replace(\":ns0\",\"\")\n",
    "    myfile = open(file_name, \"w\",encoding=\"utf-8\")\n",
    "    myfile.write(mydata)\n",
    "    myfile.close()"
   ]
  }
 ],
 "metadata": {
  "kernelspec": {
   "display_name": "Python 3",
   "language": "python",
   "name": "python3"
  },
  "language_info": {
   "codemirror_mode": {
    "name": "ipython",
    "version": 3
   },
   "file_extension": ".py",
   "mimetype": "text/x-python",
   "name": "python",
   "nbconvert_exporter": "python",
   "pygments_lexer": "ipython3",
   "version": "3.7.7"
  }
 },
 "nbformat": 4,
 "nbformat_minor": 4
}
